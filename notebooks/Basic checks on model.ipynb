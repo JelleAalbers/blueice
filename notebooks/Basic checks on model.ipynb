{
 "cells": [
  {
   "cell_type": "markdown",
   "metadata": {
    "collapsed": true
   },
   "source": [
    "This notebook contains some basic tests to check the model and limit setting is working correctly."
   ]
  },
  {
   "cell_type": "code",
   "execution_count": null,
   "metadata": {
    "collapsed": false
   },
   "outputs": [],
   "source": [
    "import numpy as np\n",
    "from tqdm import tqdm\n",
    "\n",
    "import matplotlib\n",
    "import matplotlib.pyplot as plt\n",
    "%matplotlib inline\n",
    "matplotlib.rc('font', size=16)\n",
    "plt.rcParams['figure.figsize'] = (12.0, 10.0)    # resize plots\n",
    "\n",
    "from wimpy.model import Model\n",
    "from wimpy.xenon.base_model import config as base_config\n",
    "from wimpy.analysis import bestfit_scipy"
   ]
  },
  {
   "cell_type": "code",
   "execution_count": null,
   "metadata": {
    "collapsed": false
   },
   "outputs": [],
   "source": [
    "# Create the model from scratch (takes a minute or more to sample the PDFs the first time you run this)\n",
    "m = Model(base_config)"
   ]
  },
  {
   "cell_type": "markdown",
   "metadata": {},
   "source": [
    "Energy spectra of sources included in model:"
   ]
  },
  {
   "cell_type": "code",
   "execution_count": null,
   "metadata": {
    "collapsed": false,
    "scrolled": false
   },
   "outputs": [],
   "source": [
    "for s in m.sources:\n",
    "    s.energy_distribution.plot(label=s.label, color=s.color)\n",
    "plt.yscale('log')\n",
    "\n",
    "plt.ylabel('Events /day/kg/keV')\n",
    "plt.xlabel(\"Energy (keV)\")\n",
    "plt.legend(loc='center right')\n",
    "plt.ylim(1e-11, 1e-2)"
   ]
  },
  {
   "cell_type": "markdown",
   "metadata": {},
   "source": [
    "Yields used for S1 and S2 generation:"
   ]
  },
  {
   "cell_type": "code",
   "execution_count": null,
   "metadata": {
    "collapsed": false
   },
   "outputs": [],
   "source": [
    "s = m.sources[0]\n",
    "e= np.logspace(-1, 3, 100)\n",
    "for recoil_type, color in (('er', 'b'), ('nr', 'r')):\n",
    "        for quantum_type, linestyle in (('photon', '-'), ('electron', ':')):\n",
    "            plt.plot(e, s.yield_at(e,  recoil_type, quantum_type), c=color, linestyle=linestyle)\n",
    "plt.xscale('log')\n",
    "plt.xlabel(\"Recoil energy (keV\")\n",
    "plt.ylabel(\"Yield (quanta / keV)\")\n",
    "plt.show()"
   ]
  },
  {
   "cell_type": "markdown",
   "metadata": {},
   "source": [
    "What fraction of the total events produced an event inside the analysis space (as opposed to an event out of range or no event at all)?"
   ]
  },
  {
   "cell_type": "code",
   "execution_count": null,
   "metadata": {
    "collapsed": false
   },
   "outputs": [],
   "source": [
    "print([(s.name, s.fraction_in_range) for s in m.sources])"
   ]
  },
  {
   "cell_type": "markdown",
   "metadata": {},
   "source": [
    "Simulate a single toy data set:"
   ]
  },
  {
   "cell_type": "code",
   "execution_count": null,
   "metadata": {
    "collapsed": false,
    "scrolled": false
   },
   "outputs": [],
   "source": [
    "d = m.simulate()\n",
    "m.show(d)\n",
    "plt.legend(loc='upper left', scatterpoints=1, markerscale=2)"
   ]
  }
 ],
 "metadata": {
  "kernelspec": {
   "display_name": "Python 3",
   "language": "python",
   "name": "python3"
  },
  "language_info": {
   "codemirror_mode": {
    "name": "ipython",
    "version": 3
   },
   "file_extension": ".py",
   "mimetype": "text/x-python",
   "name": "python",
   "nbconvert_exporter": "python",
   "pygments_lexer": "ipython3",
   "version": "3.4.4"
  }
 },
 "nbformat": 4,
 "nbformat_minor": 0
}
