{
 "cells": [
  {
   "cell_type": "markdown",
   "metadata": {},
   "source": [
    "Jelle, July 2016"
   ]
  },
  {
   "cell_type": "code",
   "execution_count": null,
   "metadata": {
    "collapsed": true
   },
   "outputs": [],
   "source": [
    "import numpy as np\n",
    "from tqdm import tqdm\n",
    "\n",
    "import matplotlib\n",
    "import matplotlib.pyplot as plt\n",
    "%matplotlib inline\n",
    "matplotlib.rc('font', size=16)\n",
    "plt.rcParams['figure.figsize'] = (12.0, 10.0)    # resize plots\n",
    "\n",
    "import pandas as pd"
   ]
  },
  {
   "cell_type": "markdown",
   "metadata": {},
   "source": [
    "This notebook contains the code that made the data files (.csv) in the xenon/data directory."
   ]
  },
  {
   "cell_type": "markdown",
   "metadata": {},
   "source": [
    "# WIMP spectra"
   ]
  },
  {
   "cell_type": "code",
   "execution_count": null,
   "metadata": {
    "collapsed": false
   },
   "outputs": [],
   "source": [
    "from wimpy.xenon.wimps import wimp_recoil_spectrum\n",
    "es = np.linspace(1, 100, int(1e3))\n",
    "\n",
    "wimp_masses = [7, 10, 20, 50, 100, 200, 1000]\n",
    "for i, m in enumerate(wimp_masses):\n",
    "    rates = wimp_recoil_spectrum(es, sigma=1e-45, mass=m)\n",
    "    pd.DataFrame(np.vstack([es, rates]).T, \n",
    "                 columns=['kev', 'events_per_day']).to_csv('wimp_%dgev_1e-45cm2.csv' % m)\n",
    "    plt.plot(es, rates, color=plt.cm.jet(i/(len(wimp_masses) - 1)), label='%d GeV' % m)\n",
    "plt.yscale('log')\n",
    "plt.ylim(1e-11, 1e-2)\n",
    "plt.legend(loc='upper right')\n",
    "plt.show()"
   ]
  },
  {
   "cell_type": "markdown",
   "metadata": {},
   "source": [
    "We stop signal generation at 1 keV, for conservativeness. (we could have also done this by assuming Leff is always 0 below 1 keV)"
   ]
  },
  {
   "cell_type": "code",
   "execution_count": null,
   "metadata": {
    "collapsed": false
   },
   "outputs": [],
   "source": [
    "# from wimpy.model import Model\n",
    "# from wimpy.xenon.base_model import config, nr_ignore_settings\n",
    "\n",
    "# m = 6\n",
    "# config['sources'] = [dict({'energy_distribution': 'wimp_%dgev_1e-45.pkl' % m,   # TODO: generate and save on the fly\n",
    "#                            'color': 'red',\n",
    "#                            'recoil_type': 'nr',\n",
    "#                            'name': 'wimp_%dgev' % m,\n",
    "#                            'n_events_for_pdf': 5e6,\n",
    "#                            'ignore_settings': nr_ignore_settings,\n",
    "#                            'label': '%d GeV WIMP' % m})]\n",
    "\n",
    "# m = Model(config)"
   ]
  },
  {
   "cell_type": "markdown",
   "metadata": {},
   "source": [
    "# Background spectra"
   ]
  },
  {
   "cell_type": "code",
   "execution_count": null,
   "metadata": {
    "collapsed": false
   },
   "outputs": [],
   "source": [
    "es = np.linspace(1, 100, int(1e3))\n",
    "for rates, name in ((6e-8 * 10**(-es*1/100) + 3e-6 * 1/(2+es**2), 'radiogenic_neutrons'),\n",
    "                    (4e-3 * 10**(-es*9/7), 'cnns')):\n",
    "    plt.plot(es, rates, label=name)\n",
    "    pd.DataFrame(np.vstack([es, rates]).T, columns=['kev', 'events_per_day']).to_csv('%s.csv' % name)\n",
    "plt.yscale('log')\n",
    "plt.legend(loc='upper right')\n",
    "plt.ylim(1e-11, 1)"
   ]
  },
  {
   "cell_type": "code",
   "execution_count": null,
   "metadata": {
    "collapsed": false
   },
   "outputs": [],
   "source": [
    "es = np.linspace(1e-9, 15, int(1e3))\n",
    "rates = np.ones(len(es)) * 2e-4\n",
    "plt.plot(es, rates, label='ER background')\n",
    "pd.DataFrame(np.vstack([es[mask], rates[mask]]).T, columns=['kev', 'events_per_day']).to_csv('er_bg.csv')\n",
    "plt.yscale('log')\n",
    "plt.legend(loc='upper right')\n",
    "plt.ylim(1e-11, 1)"
   ]
  },
  {
   "cell_type": "markdown",
   "metadata": {},
   "source": [
    "# Leff"
   ]
  },
  {
   "cell_type": "markdown",
   "metadata": {},
   "source": [
    "Leff was curve traced from figure 1c in : https://xecluster.lngs.infn.it/dokuwiki/doku.php?id=xenon:xenon1t:sim:notes:digangi:sensitivity-profile-likelihood-ratio"
   ]
  },
  {
   "cell_type": "markdown",
   "metadata": {},
   "source": [
    "# Qy"
   ]
  },
  {
   "cell_type": "code",
   "execution_count": null,
   "metadata": {
    "collapsed": false
   },
   "outputs": [],
   "source": [
    "def nr_electron_yield(recoil_energies):\n",
    "    \"\"\"Qy from Chris' wimpstat, which is apparently taken from some unidentified C code (given semicolons at linebreaks)\n",
    "    recoil_energies and cutoff_energy are in keV, answer is in number of electrons produced at the interaction point.\n",
    "    This is apparently a variation on the Bezrukov Qy (looking at RichardW's notes you can see there are many other\n",
    "    choices which can also be called \"Bezrukov\").\n",
    "    \"\"\"\n",
    "#     cutoff_energy = config['nr_electron_yield_cutoff_energy']\n",
    "#     beyond_cutoff = config['nr_electron_yield_behaviour_below_cutoff']\n",
    "#     if cutoff_energy > 0 and beyond_cutoff == 'const':\n",
    "#         recoil_energies = np.clip(recoil_energies, cutoff_energy, float('inf'))\n",
    "\n",
    "    ep = recoil_energies * (1.05 * np.power(10.,-3.))\n",
    "    k = 1.65e-1\n",
    "    se = k * np.sqrt(ep)\n",
    "    sn = np.log(1 + 1.1383 * 1.068 * ep)\n",
    "    sn /= 2 *(1.068 * ep + 0.01321 * np.power((1.068 * ep),0.21226) + 0.19593*np.power((1.068*ep),0.5))\n",
    "    ratio = 1.09\n",
    "    g = 0.032\n",
    "    b = 1.38e5\n",
    "\n",
    "    squiggle = se / sn;\n",
    "\n",
    "    Ni = (b * ep * squiggle)/(1 + ratio);\n",
    "    Nq = (4./g) * np.log(1 + (g * Ni)/4.);\n",
    "\n",
    "    answer = Nq/recoil_energies\n",
    "\n",
    "#     if cutoff_energy > 0 and beyond_cutoff == 'zero':\n",
    "#         answer[recoil_energies < cutoff_energy] = 0\n",
    "    return answer\n"
   ]
  },
  {
   "cell_type": "code",
   "execution_count": null,
   "metadata": {
    "collapsed": false
   },
   "outputs": [],
   "source": [
    "e = np.logspace(0, 3, 100)\n",
    "plt.plot(e, nr_electron_yield(e))\n",
    "plt.xscale('log')\n",
    "plt.xlabel('Energy (keV)')\n",
    "plt.ylabel('Electron yield (electrons/keV)')"
   ]
  },
  {
   "cell_type": "code",
   "execution_count": null,
   "metadata": {
    "collapsed": false
   },
   "outputs": [],
   "source": [
    "pd.DataFrame({'kevnr': e, 'qy': nr_electron_yield(e)}).to_csv('qy_bezrukov.csv')"
   ]
  },
  {
   "cell_type": "markdown",
   "metadata": {},
   "source": [
    "# ER photon yields"
   ]
  },
  {
   "cell_type": "code",
   "execution_count": null,
   "metadata": {
    "collapsed": false
   },
   "outputs": [],
   "source": [
    "npz = np.load('nest_ER_photon_yield.npz')    # Obtained using Bart's histogram ripper\n",
    "data_at_voltage = sorted([(int(k.split(' ')[0]), v) for k, v in npz.items()])\n",
    "for voltage, (x, y) in data_at_voltage:   \n",
    "    x = 10**x\n",
    "    with open('beta_photon_yield_nest_%dV.csv' % voltage, mode='w') as out:\n",
    "        out.write(\"# NEST photon yield for betas at %d V\\n\")\n",
    "        out.write(\"# Curve traced from figure 1, upper right, using Bart's histogramripper.\\n\")\n",
    "        out.write(\"# Jelle, 25 July 2017.\\n\")\n",
    "        pd.DataFrame({'kever': x, 'yield': y}).to_csv(out)\n",
    "    plt.plot(x, y, label=voltage)\n",
    "plt.legend(loc='upper left')\n",
    "plt.xscale('log')"
   ]
  }
 ],
 "metadata": {
  "kernelspec": {
   "display_name": "Python 3",
   "language": "python",
   "name": "python3"
  },
  "language_info": {
   "codemirror_mode": {
    "name": "ipython",
    "version": 3
   },
   "file_extension": ".py",
   "mimetype": "text/x-python",
   "name": "python",
   "nbconvert_exporter": "python",
   "pygments_lexer": "ipython3",
   "version": "3.4.4"
  }
 },
 "nbformat": 4,
 "nbformat_minor": 0
}
