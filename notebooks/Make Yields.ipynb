{
 "cells": [
  {
   "cell_type": "code",
   "execution_count": null,
   "metadata": {
    "collapsed": true
   },
   "outputs": [],
   "source": [
    "import numpy as np\n",
    "from tqdm import tqdm\n",
    "\n",
    "import matplotlib\n",
    "import matplotlib.pyplot as plt\n",
    "%matplotlib inline\n",
    "matplotlib.rc('font', size=16)\n",
    "plt.rcParams['figure.figsize'] = (12.0, 10.0)    # resize plots\n",
    "\n",
    "import pandas as pd"
   ]
  },
  {
   "cell_type": "markdown",
   "metadata": {},
   "source": [
    "Leff was curve traced from figure 1c in : https://xecluster.lngs.infn.it/dokuwiki/doku.php?id=xenon:xenon1t:sim:notes:digangi:sensitivity-profile-likelihood-ratio"
   ]
  },
  {
   "cell_type": "markdown",
   "metadata": {},
   "source": [
    "# Qy"
   ]
  },
  {
   "cell_type": "code",
   "execution_count": null,
   "metadata": {
    "collapsed": false
   },
   "outputs": [],
   "source": [
    "def nr_electron_yield(recoil_energies):\n",
    "    \"\"\"Qy from Chris' wimpstat, which is apparently taken from some unidentified C code (given semicolons at linebreaks)\n",
    "    recoil_energies and cutoff_energy are in keV, answer is in number of electrons produced at the interaction point.\n",
    "    This is apparently a variation on the Bezrukov Qy (looking at RichardW's notes you can see there are many other\n",
    "    choices which can also be called \"Bezrukov\").\n",
    "    \"\"\"\n",
    "#     cutoff_energy = config['nr_electron_yield_cutoff_energy']\n",
    "#     beyond_cutoff = config['nr_electron_yield_behaviour_below_cutoff']\n",
    "#     if cutoff_energy > 0 and beyond_cutoff == 'const':\n",
    "#         recoil_energies = np.clip(recoil_energies, cutoff_energy, float('inf'))\n",
    "\n",
    "    ep = recoil_energies * (1.05 * np.power(10.,-3.))\n",
    "    k = 1.65e-1\n",
    "    se = k * np.sqrt(ep)\n",
    "    sn = np.log(1 + 1.1383 * 1.068 * ep)\n",
    "    sn /= 2 *(1.068 * ep + 0.01321 * np.power((1.068 * ep),0.21226) + 0.19593*np.power((1.068*ep),0.5))\n",
    "    ratio = 1.09\n",
    "    g = 0.032\n",
    "    b = 1.38e5\n",
    "\n",
    "    squiggle = se / sn;\n",
    "\n",
    "    Ni = (b * ep * squiggle)/(1 + ratio);\n",
    "    Nq = (4./g) * np.log(1 + (g * Ni)/4.);\n",
    "\n",
    "    answer = Nq/recoil_energies\n",
    "\n",
    "#     if cutoff_energy > 0 and beyond_cutoff == 'zero':\n",
    "#         answer[recoil_energies < cutoff_energy] = 0\n",
    "    return answer\n"
   ]
  },
  {
   "cell_type": "code",
   "execution_count": null,
   "metadata": {
    "collapsed": false
   },
   "outputs": [],
   "source": [
    "e = np.logspace(0, 3, 100)\n",
    "plt.plot(e, nr_electron_yield(e))\n",
    "plt.xscale('log')\n",
    "plt.xlabel('Energy (keV)')\n",
    "plt.ylabel('Electron yield (electrons/keV)')"
   ]
  },
  {
   "cell_type": "code",
   "execution_count": null,
   "metadata": {
    "collapsed": false
   },
   "outputs": [],
   "source": [
    "pd.DataFrame({'kevnr': e, 'qy': nr_electron_yield(e)}).to_csv('qy_bezrukov.csv')"
   ]
  },
  {
   "cell_type": "markdown",
   "metadata": {},
   "source": [
    "# ER photon yields"
   ]
  },
  {
   "cell_type": "code",
   "execution_count": null,
   "metadata": {
    "collapsed": false
   },
   "outputs": [],
   "source": [
    "npz = np.load('nest_ER_photon_yield.npz')    # Obtained using Bart's histogram ripper\n",
    "data_at_voltage = sorted([(int(k.split(' ')[0]), v) for k, v in npz.items()])\n",
    "for voltage, (x, y) in data_at_voltage:   \n",
    "    x = 10**x\n",
    "    with open('beta_photon_yield_nest_%dV.csv' % voltage, mode='w') as out:\n",
    "        out.write(\"# NEST photon yield for betas at %d V\\n\")\n",
    "        out.write(\"# Curve traced from figure 1, upper right, using Bart's histogramripper.\\n\")\n",
    "        out.write(\"# Jelle, 25 July 2017.\\n\")\n",
    "        pd.DataFrame({'kever': x, 'yield': y}).to_csv(out)\n",
    "    plt.plot(x, y, label=voltage)\n",
    "plt.legend(loc='upper left')\n",
    "plt.xscale('log')"
   ]
  }
 ],
 "metadata": {
  "kernelspec": {
   "display_name": "Python 3",
   "language": "python",
   "name": "python3"
  },
  "language_info": {
   "codemirror_mode": {
    "name": "ipython",
    "version": 3
   },
   "file_extension": ".py",
   "mimetype": "text/x-python",
   "name": "python",
   "nbconvert_exporter": "python",
   "pygments_lexer": "ipython3",
   "version": "3.4.4"
  }
 },
 "nbformat": 4,
 "nbformat_minor": 0
}
