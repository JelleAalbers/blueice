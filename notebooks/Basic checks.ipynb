{
 "cells": [
  {
   "cell_type": "markdown",
   "metadata": {},
   "source": [
    "This notebook contains some basic tests to check the model and limit setting is working correctly."
   ]
  },
  {
   "cell_type": "code",
   "execution_count": 1,
   "metadata": {
    "collapsed": false
   },
   "outputs": [],
   "source": [
    "import numpy as np\n",
    "from tqdm import tqdm\n",
    "\n",
    "import matplotlib\n",
    "import matplotlib.pyplot as plt\n",
    "%matplotlib inline\n",
    "matplotlib.rc('font', size=16)\n",
    "plt.rcParams['figure.figsize'] = (12.0, 10.0)    # resize plots\n",
    "\n",
    "from wimpy.model import Model\n",
    "from wimpy.models.temp import config as base_config"
   ]
  },
  {
   "cell_type": "code",
   "execution_count": 2,
   "metadata": {
    "collapsed": false
   },
   "outputs": [
    {
     "name": "stderr",
     "output_type": "stream",
     "text": []
    }
   ],
   "source": [
    "# Create the model from scratch (takes a minute or more to sample the PDFs)\n",
    "m = Model(base_config)\n",
    "m.save('cs1_model')\n",
    "\n",
    "# The next time you can just load it from disk, like so:\n",
    "m = Model.load('cs1_model')"
   ]
  },
  {
   "cell_type": "markdown",
   "metadata": {},
   "source": [
    "# Basic diagnostics"
   ]
  },
  {
   "cell_type": "markdown",
   "metadata": {},
   "source": [
    "Energy spectra of sources included in model"
   ]
  },
  {
   "cell_type": "code",
   "execution_count": null,
   "metadata": {
    "collapsed": false,
    "scrolled": false
   },
   "outputs": [],
   "source": [
    "for s in m.sources:\n",
    "    s.energy_distribution.plot(label=s.label, color=s.color)\n",
    "plt.yscale('log')\n",
    "\n",
    "plt.ylabel('Events /day/kg/keV')\n",
    "plt.xlabel(\"Energy (keV)\")\n",
    "plt.legend(loc='center right')\n",
    "plt.ylim(1e-11, 1e-2)"
   ]
  },
  {
   "cell_type": "markdown",
   "metadata": {},
   "source": [
    "What fraction of the total events produced an event inside the analysis space (as opposed to an event out of range or no event at all)?"
   ]
  },
  {
   "cell_type": "code",
   "execution_count": 4,
   "metadata": {
    "collapsed": false
   },
   "outputs": [
    {
     "name": "stdout",
     "output_type": "stream",
     "text": [
      "[('er_bg', 0.054937095238095236), ('cnns', 0.0017604999999999999), ('radiogenics', 0.39102799999999999), ('wimp', 0.71440049999999999)]\n"
     ]
    }
   ],
   "source": [
    "print([(s.name, s.fraction_in_range) for s in m.sources])"
   ]
  },
  {
   "cell_type": "markdown",
   "metadata": {},
   "source": [
    "Simulate a single toy data set with \"WIMP strength -1\" i.e. a cross section of 10^(-46) cm^2. "
   ]
  },
  {
   "cell_type": "code",
   "execution_count": null,
   "metadata": {
    "collapsed": false
   },
   "outputs": [],
   "source": [
    "truth = -1\n",
    "d = m.simulate(truth)\n",
    "m.show(d)\n",
    "plt.legend(loc='lower right', scatterpoints=1, markerscale=2)"
   ]
  },
  {
   "cell_type": "markdown",
   "metadata": {},
   "source": [
    "Get the best-fit strength, without and with considering a 3% rate uncertainty on the 50 GeV WIMP signal (the same as applied in the Bologna model for Leff, see [here](https://xecluster.lngs.infn.it/dokuwiki/doku.php?id=xenon:xenon1t:sim:notes:digangi:leff_impact_on_pl))"
   ]
  },
  {
   "cell_type": "code",
   "execution_count": 6,
   "metadata": {
    "collapsed": false
   },
   "outputs": [
    {
     "data": {
      "text/plain": [
       "(array(-0.9173565501714929), -3918.9349240601277)"
      ]
     },
     "execution_count": 6,
     "metadata": {},
     "output_type": "execute_result"
    }
   ],
   "source": [
    "m.bestfit(d)"
   ]
  },
  {
   "cell_type": "code",
   "execution_count": 7,
   "metadata": {
    "collapsed": false
   },
   "outputs": [
    {
     "data": {
      "text/plain": [
       "(array([ -9.17351116e-01,  -4.24025735e-04]), -3918.9349241500272)"
      ]
     },
     "execution_count": 7,
     "metadata": {},
     "output_type": "execute_result"
    }
   ],
   "source": [
    "m.sources[-1].rate_uncertainty = 0.03\n",
    "m.bestfit(d, fit_uncertainties=True)"
   ]
  },
  {
   "cell_type": "markdown",
   "metadata": {},
   "source": [
    "Show the likelihood and profile likelihood curves"
   ]
  },
  {
   "cell_type": "code",
   "execution_count": null,
   "metadata": {
    "collapsed": false
   },
   "outputs": [],
   "source": [
    "strengths = np.linspace(-5, 2, 200)\n",
    "lls = np.array([m.loglikelihood(wimp_strength=x, d=d) for x in tqdm(strengths)])\n",
    "max_ll = lls.max()\n",
    "plt.axvline(strengths[np.argmax(lls)], label='ML estimate', c='red', linestyle='--')\n",
    "plt.plot(strengths, (max_ll-lls), label='LR')\n",
    "\n",
    "plls = np.array([m.bestfit(guess_strength=x, d=d, fit_uncertainties=True, fit_strength=False)[1]\n",
    "                 for x in tqdm(strengths)])\n",
    "max_pll = plls.max()\n",
    "plt.axvline(strengths[np.argmax(plls)], label='pL estimate', c='purple', linestyle='-.')\n",
    "plt.plot(strengths, (max_pll-plls), label='Profile LR')\n",
    "\n",
    "plt.xlabel('Log10(WIMP cross section (zb))')\n",
    "plt.ylabel('- Log likelihood ratio')\n",
    "plt.axvline(truth, label='Truth', c='r', linestyle=':')\n",
    "plt.legend(loc='upper left')\n",
    "plt.ylim(0, 5)\n",
    "plt.xlim()\n",
    "plt.show()\n",
    "\n",
    "# p_ratio_hist(m).plot(vmin=1e-6, vmax=1e4, log_scale=True,  \n",
    "\n",
    "#                      cblabel='s/b PDF ratio', cmap=plt.cm.Greens)\n",
    "# m.show(d)\n",
    "# plt.show()"
   ]
  },
  {
   "cell_type": "markdown",
   "metadata": {},
   "source": [
    "Give 90% confidence intervals and 90% upper limits on the WIMP cross section:"
   ]
  },
  {
   "cell_type": "code",
   "execution_count": 10,
   "metadata": {
    "collapsed": false
   },
   "outputs": [
    {
     "data": {
      "text/plain": [
       "-0.8339791436151213"
      ]
     },
     "execution_count": 10,
     "metadata": {},
     "output_type": "execute_result"
    }
   ],
   "source": [
    "m.interval(d, kind='limit')"
   ]
  },
  {
   "cell_type": "code",
   "execution_count": 11,
   "metadata": {
    "collapsed": false
   },
   "outputs": [
    {
     "name": "stdout",
     "output_type": "stream",
     "text": [
      "-1.0373404910561683 -0.8116943084786177 0.22564618257755065\n"
     ]
    }
   ],
   "source": [
    "low, high = m.interval(d, kind='central') \n",
    "print(low, high, high-low)"
   ]
  },
  {
   "cell_type": "markdown",
   "metadata": {},
   "source": [
    "Same with profiling. The limit should get worse (ie. higher, ie less negative) and the interval should get broader:"
   ]
  },
  {
   "cell_type": "code",
   "execution_count": 12,
   "metadata": {
    "collapsed": false
   },
   "outputs": [
    {
     "data": {
      "text/plain": [
       "-0.8322346695723739"
      ]
     },
     "execution_count": 12,
     "metadata": {},
     "output_type": "execute_result"
    }
   ],
   "source": [
    "m.interval(d, kind='limit', profile=True)"
   ]
  },
  {
   "cell_type": "code",
   "execution_count": 13,
   "metadata": {
    "collapsed": false
   },
   "outputs": [
    {
     "name": "stdout",
     "output_type": "stream",
     "text": [
      "-1.0391021197505494 -0.8093950249646572 0.22970709478589224\n"
     ]
    }
   ],
   "source": [
    "low, high = m.interval(d, kind='central', profile=True)\n",
    "print(low, high, high-low)"
   ]
  },
  {
   "cell_type": "markdown",
   "metadata": {},
   "source": [
    "(If I try this for a rate uncertainty on the ER background, I get only a minute effect. Actually it seems the interval gets narrowed, athough minisculely so...)"
   ]
  },
  {
   "cell_type": "markdown",
   "metadata": {},
   "source": [
    "Compute the sensitivity, for comparison against the Bologna model results:"
   ]
  },
  {
   "cell_type": "code",
   "execution_count": 15,
   "metadata": {
    "collapsed": false
   },
   "outputs": [
    {
     "name": "stderr",
     "output_type": "stream",
     "text": []
    },
    {
     "name": "stdout",
     "output_type": "stream",
     "text": [
      "-2.05920542537 0.00981841792896\n"
     ]
    },
    {
     "name": "stderr",
     "output_type": "stream",
     "text": []
    },
    {
     "name": "stdout",
     "output_type": "stream",
     "text": [
      "-2.05027590564 0.0096545873177\n"
     ]
    }
   ],
   "source": [
    "from scipy import stats\n",
    "def get_sensitivity(model, n_trials=1000, profile=False):\n",
    "    bg_limits = [model.interval(model.simulate(wimp_strength=model.no_wimp_strength), \n",
    "                                kind='limit', profile=profile) \n",
    "                 for _ in tqdm(range(n_trials))]\n",
    "    med = np.median(bg_limits)\n",
    "    ll = np.percentile(bg_limits, stats.norm.cdf(-1) * 100)\n",
    "    ul = np.percentile(bg_limits, stats.norm.cdf(1) * 100)\n",
    "    print(med, (ul-ll)/2/np.sqrt(n_trials))\n",
    "    #return [10**x * reference_wimp_cross_section for x in (med, ll, ul)]\n",
    "    \n",
    "get_sensitivity(m)\n",
    "get_sensitivity(m, profile=True)"
   ]
  },
  {
   "cell_type": "code",
   "execution_count": 16,
   "metadata": {
    "collapsed": false
   },
   "outputs": [
    {
     "data": {
      "text/plain": [
       "-2.0655015487564299"
      ]
     },
     "execution_count": 16,
     "metadata": {},
     "output_type": "execute_result"
    }
   ],
   "source": [
    "# The Bologna model result expressed in the same parameter:\n",
    "# From https://xecluster.lngs.infn.it/dokuwiki/doku.php?id=xenon:xenon1t:sim:notes:digangi:sensitivity-profile-likelihood-ratio#with_or_without_cls\n",
    "# Sensitivit with Leff uncertainty, but without CLS is 8.6e-48\n",
    "# (CLS is a factor 1.4)\n",
    "np.log10(8.6*10**-48)+45"
   ]
  }
 ],
 "metadata": {
  "kernelspec": {
   "display_name": "Python 3",
   "language": "python",
   "name": "python3"
  },
  "language_info": {
   "codemirror_mode": {
    "name": "ipython",
    "version": 3
   },
   "file_extension": ".py",
   "mimetype": "text/x-python",
   "name": "python",
   "nbconvert_exporter": "python",
   "pygments_lexer": "ipython3",
   "version": "3.4.4"
  }
 },
 "nbformat": 4,
 "nbformat_minor": 0
}
