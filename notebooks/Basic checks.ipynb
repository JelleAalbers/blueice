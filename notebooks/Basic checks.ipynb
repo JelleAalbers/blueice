{
 "cells": [
  {
   "cell_type": "markdown",
   "metadata": {},
   "source": [
    "This notebook contains some basic tests to check the model and limit setting is working correctly."
   ]
  },
  {
   "cell_type": "code",
   "execution_count": 1,
   "metadata": {
    "collapsed": false
   },
   "outputs": [],
   "source": [
    "import numpy as np\n",
    "from tqdm import tqdm\n",
    "\n",
    "import matplotlib\n",
    "import matplotlib.pyplot as plt\n",
    "%matplotlib inline\n",
    "matplotlib.rc('font', size=16)\n",
    "plt.rcParams['figure.figsize'] = (12.0, 10.0)    # resize plots\n",
    "\n",
    "from wimpy.model import Model\n",
    "from wimpy.models.temp import config as base_config\n",
    "from wimpy.analysis import bestfit, interval, loglikelihood"
   ]
  },
  {
   "cell_type": "code",
   "execution_count": 2,
   "metadata": {
    "collapsed": false
   },
   "outputs": [
    {
     "name": "stderr",
     "output_type": "stream",
     "text": []
    },
    {
     "data": {
      "text/plain": [
       "'cs1_model'"
      ]
     },
     "execution_count": 2,
     "metadata": {},
     "output_type": "execute_result"
    }
   ],
   "source": [
    "# Create the model from scratch (takes a minute or more to sample the PDFs)\n",
    "m = Model(base_config, pdf_sampling_multiplier=0.5)\n",
    "m.save('cs1_model')\n",
    "\n",
    "# The next time you can just load it from disk, like so:\n",
    "# m = Model.load('cs1_model')"
   ]
  },
  {
   "cell_type": "markdown",
   "metadata": {},
   "source": [
    "# Basic diagnostics"
   ]
  },
  {
   "cell_type": "markdown",
   "metadata": {},
   "source": [
    "Energy spectra of sources included in model"
   ]
  },
  {
   "cell_type": "code",
   "execution_count": null,
   "metadata": {
    "collapsed": false,
    "scrolled": false
   },
   "outputs": [],
   "source": [
    "for s in m.sources:\n",
    "    s.energy_distribution.plot(label=s.label, color=s.color)\n",
    "plt.yscale('log')\n",
    "\n",
    "plt.ylabel('Events /day/kg/keV')\n",
    "plt.xlabel(\"Energy (keV)\")\n",
    "plt.legend(loc='center right')\n",
    "plt.ylim(1e-11, 1e-2)"
   ]
  },
  {
   "cell_type": "markdown",
   "metadata": {},
   "source": [
    "What fraction of the total events produced an event inside the analysis space (as opposed to an event out of range or no event at all)?"
   ]
  },
  {
   "cell_type": "code",
   "execution_count": 4,
   "metadata": {
    "collapsed": false
   },
   "outputs": [
    {
     "name": "stdout",
     "output_type": "stream",
     "text": [
      "[('er_bg', 0.52596036363636367), ('cnns', 0.00039666666666666664), ('radiogenics', 0.35388066666666668), ('wimp_50gev', 0.63900433333333329)]\n"
     ]
    }
   ],
   "source": [
    "print([(s.name, s.fraction_in_range) for s in m.sources])"
   ]
  },
  {
   "cell_type": "markdown",
   "metadata": {},
   "source": [
    "Simulate a single toy data set with \"WIMP strength -1\" i.e. a cross section of 10^(-46) cm^2. "
   ]
  },
  {
   "cell_type": "code",
   "execution_count": null,
   "metadata": {
    "collapsed": false
   },
   "outputs": [],
   "source": [
    "truth = -1\n",
    "d = m.simulate(truth)\n",
    "m.show(d)\n",
    "plt.legend(loc='lower right', scatterpoints=1, markerscale=2)"
   ]
  },
  {
   "cell_type": "markdown",
   "metadata": {},
   "source": [
    "Get the best-fit strength, without and with considering a 30% rate uncertainty on the 50 GeV WIMP signal\n",
    "\n",
    "(10x the one applied in the Bologna model for Leff, see [here](https://xecluster.lngs.infn.it/dokuwiki/doku.php?id=xenon:xenon1t:sim:notes:digangi:leff_impact_on_pl), just to show an effect)"
   ]
  },
  {
   "cell_type": "code",
   "execution_count": 6,
   "metadata": {
    "collapsed": false
   },
   "outputs": [
    {
     "data": {
      "text/plain": [
       "(array(-1.1234008941548541), -5874.2274721138683)"
      ]
     },
     "execution_count": 6,
     "metadata": {},
     "output_type": "execute_result"
    }
   ],
   "source": [
    "bestfit(m, d)"
   ]
  },
  {
   "cell_type": "code",
   "execution_count": 7,
   "metadata": {
    "collapsed": false
   },
   "outputs": [
    {
     "data": {
      "text/plain": [
       "(array([-1.12262584, -0.00594011]), -5874.2274897563138)"
      ]
     },
     "execution_count": 7,
     "metadata": {},
     "output_type": "execute_result"
    }
   ],
   "source": [
    "m.sources[-1].rate_uncertainty = 0.3\n",
    "bestfit(m, d, fit_uncertainties=True)"
   ]
  },
  {
   "cell_type": "markdown",
   "metadata": {},
   "source": [
    "Show the likelihood and profile likelihood curves"
   ]
  },
  {
   "cell_type": "code",
   "execution_count": 8,
   "metadata": {
    "collapsed": false
   },
   "outputs": [
    {
     "data": {
      "text/plain": [
       "(array(-3.3081476958191884), -5879.6995530718586)"
      ]
     },
     "execution_count": 8,
     "metadata": {},
     "output_type": "execute_result"
    }
   ],
   "source": [
    "bestfit(m, guess_strength=1, d=d, fit_uncertainties=True, fit_strength=False)"
   ]
  },
  {
   "cell_type": "code",
   "execution_count": null,
   "metadata": {
    "collapsed": false
   },
   "outputs": [],
   "source": [
    "strengths = np.linspace(-5, 0, 200)\n",
    "lls = np.array([loglikelihood(m, wimp_strength=x, d=d) for x in tqdm(strengths)])\n",
    "max_ll = lls.max()\n",
    "plt.axvline(strengths[np.argmax(lls)], label='ML estimate', c='red', linestyle='--')\n",
    "plt.plot(strengths, (max_ll-lls), label='LR')\n",
    "\n",
    "plls = np.array([bestfit(m, guess_strength=x, d=d, fit_uncertainties=True, fit_strength=False)[1]\n",
    "                 for x in tqdm(strengths)])\n",
    "max_pll = plls.max()\n",
    "plt.axvline(strengths[np.argmax(plls)], label='pL estimate', c='purple', linestyle='-.')\n",
    "plt.plot(strengths, (max_pll-plls), label='Profile LR')\n",
    "\n",
    "plt.xlabel('Log10(WIMP cross section (zb))')\n",
    "plt.ylabel('- Log likelihood ratio')\n",
    "plt.axvline(truth, label='Truth', c='r', linestyle=':')\n",
    "plt.legend(loc='upper left')\n",
    "plt.ylim(0, 5)\n",
    "plt.xlim()\n",
    "plt.show()\n",
    "\n",
    "# p_ratio_hist(m).plot(vmin=1e-6, vmax=1e4, log_scale=True,  \n",
    "\n",
    "#                      cblabel='s/b PDF ratio', cmap=plt.cm.Greens)\n",
    "# m.show(d)\n",
    "# plt.show()"
   ]
  },
  {
   "cell_type": "markdown",
   "metadata": {},
   "source": [
    "Give 90% confidence intervals and 90% upper limits on the WIMP cross section:"
   ]
  },
  {
   "cell_type": "code",
   "execution_count": 10,
   "metadata": {
    "collapsed": false
   },
   "outputs": [
    {
     "data": {
      "text/plain": [
       "-1.0110296573075004"
      ]
     },
     "execution_count": 10,
     "metadata": {},
     "output_type": "execute_result"
    }
   ],
   "source": [
    "interval(m, d, kind='limit')"
   ]
  },
  {
   "cell_type": "code",
   "execution_count": 11,
   "metadata": {
    "collapsed": false
   },
   "outputs": [
    {
     "name": "stdout",
     "output_type": "stream",
     "text": [
      "-1.2932088154801475 -0.9816434751189275 0.3115653403612201\n"
     ]
    }
   ],
   "source": [
    "low, high = interval(m, d, kind='central') \n",
    "print(low, high, high-low)"
   ]
  },
  {
   "cell_type": "markdown",
   "metadata": {},
   "source": [
    "Same with profiling. The limit should get worse (ie. higher, ie less negative) and the interval should get broader:"
   ]
  },
  {
   "cell_type": "code",
   "execution_count": 12,
   "metadata": {
    "collapsed": false
   },
   "outputs": [
    {
     "data": {
      "text/plain": [
       "-0.8880154826835885"
      ]
     },
     "execution_count": 12,
     "metadata": {},
     "output_type": "execute_result"
    }
   ],
   "source": [
    "interval(m, d, kind='limit', profile=True)"
   ]
  },
  {
   "cell_type": "code",
   "execution_count": 13,
   "metadata": {
    "collapsed": false
   },
   "outputs": [
    {
     "name": "stdout",
     "output_type": "stream",
     "text": [
      "-1.3701638361277713 -0.8016803173813319 0.5684835187464393\n"
     ]
    }
   ],
   "source": [
    "low, high = interval(m, d, kind='central', profile=True)\n",
    "print(low, high, high-low)"
   ]
  },
  {
   "cell_type": "markdown",
   "metadata": {},
   "source": [
    "(If I try this for a rate uncertainty on the ER background, I get only a minute effect. Actually it seems the interval gets narrowed, athough minisculely so...)"
   ]
  },
  {
   "cell_type": "markdown",
   "metadata": {},
   "source": [
    "Compute the sensitivity, for comparison against the Bologna model results:"
   ]
  },
  {
   "cell_type": "code",
   "execution_count": 14,
   "metadata": {
    "collapsed": false
   },
   "outputs": [
    {
     "name": "stderr",
     "output_type": "stream",
     "text": [
      "                                                  "
     ]
    },
    {
     "name": "stdout",
     "output_type": "stream",
     "text": [
      "-2.0498500989 0.00998188337905\n"
     ]
    },
    {
     "name": "stderr",
     "output_type": "stream",
     "text": [
      "\r"
     ]
    }
   ],
   "source": [
    "from scipy import stats\n",
    "def get_sensitivity(model, n_trials=1000, profile=False):\n",
    "    bg_limits = [interval(model, \n",
    "                          model.simulate(wimp_strength=model.no_wimp_strength), \n",
    "                          kind='limit', \n",
    "                          profile=profile)\n",
    "                 for _ in tqdm(range(n_trials))]\n",
    "    med = np.median(bg_limits)\n",
    "    ll = np.percentile(bg_limits, stats.norm.cdf(-1) * 100)\n",
    "    ul = np.percentile(bg_limits, stats.norm.cdf(1) * 100)\n",
    "    print(med, (ul-ll)/2/np.sqrt(n_trials))\n",
    "    #return [10**x * reference_wimp_cross_section for x in (med, ll, ul)]\n",
    "    \n",
    "get_sensitivity(m)"
   ]
  },
  {
   "cell_type": "markdown",
   "metadata": {},
   "source": [
    "To compare against the Bologna model, consider that\n",
    "  * CLS is a factor 1.4\n",
    "  * LEff is a very small factor at high/intermediate wimp masses, see[here](https://xecluster.lngs.infn.it/dokuwiki/lib/exe/detail.php?id=xenon%3Axenon1t%3Asim%3Anotes%3Adigangi%3Asensitivity-profile-likelihood-ratio&media=xenon:xenon1t:sim:notes:digangi:csensitivity_ratio.png))\n",
    "\n",
    "Fortunately we have the sensitivity without CLS (but with LEff) [here](https://xecluster.lngs.infn.it/dokuwiki/doku.php?id=xenon:xenon1t:sim:notes:digangi:sensitivity-profile-likelihood-ratio#with_or_without_cls): 8.6e-48 cm^2. Expressed in the same units, this is:"
   ]
  },
  {
   "cell_type": "code",
   "execution_count": 15,
   "metadata": {
    "collapsed": false
   },
   "outputs": [
    {
     "data": {
      "text/plain": [
       "-2.0655015487564299"
      ]
     },
     "execution_count": 15,
     "metadata": {},
     "output_type": "execute_result"
    }
   ],
   "source": [
    "np.log10(8.6*10**-48)+45"
   ]
  }
 ],
 "metadata": {
  "kernelspec": {
   "display_name": "Python 3",
   "language": "python",
   "name": "python3"
  },
  "language_info": {
   "codemirror_mode": {
    "name": "ipython",
    "version": 3
   },
   "file_extension": ".py",
   "mimetype": "text/x-python",
   "name": "python",
   "nbconvert_exporter": "python",
   "pygments_lexer": "ipython3",
   "version": "3.4.4"
  }
 },
 "nbformat": 4,
 "nbformat_minor": 0
}
